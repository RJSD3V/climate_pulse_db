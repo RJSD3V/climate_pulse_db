{
 "cells": [
  {
   "cell_type": "code",
   "execution_count": 6,
   "metadata": {},
   "outputs": [
    {
     "name": "stdout",
     "output_type": "stream",
     "text": [
      "┌─────────┐\n",
      "│  name   │\n",
      "│ varchar │\n",
      "├─────────┤\n",
      "│ states  │\n",
      "└─────────┘\n",
      "\n"
     ]
    }
   ],
   "source": [
    "import duckdb\n",
    "import pandas as pd\n",
    "\n",
    "con = duckdb.connect(\"dev_database.duckdb\")\n",
    "con.sql(\"USE dev_database.dev_sode\")\n",
    "con.sql(\"SHOW TABLES;\").show()\n",
    "con.close()"
   ]
  },
  {
   "cell_type": "code",
   "execution_count": 11,
   "metadata": {},
   "outputs": [],
   "source": [
    "df = con.sql(\"select * from fact_daily_climate_parameters \").df()"
   ]
  },
  {
   "cell_type": "code",
   "execution_count": 12,
   "metadata": {},
   "outputs": [
    {
     "data": {
      "text/html": [
       "<div>\n",
       "<style scoped>\n",
       "    .dataframe tbody tr th:only-of-type {\n",
       "        vertical-align: middle;\n",
       "    }\n",
       "\n",
       "    .dataframe tbody tr th {\n",
       "        vertical-align: top;\n",
       "    }\n",
       "\n",
       "    .dataframe thead th {\n",
       "        text-align: right;\n",
       "    }\n",
       "</style>\n",
       "<table border=\"1\" class=\"dataframe\">\n",
       "  <thead>\n",
       "    <tr style=\"text-align: right;\">\n",
       "      <th></th>\n",
       "      <th>reading_date</th>\n",
       "      <th>source_flag</th>\n",
       "      <th>measurement_flag</th>\n",
       "      <th>PRCP_avg</th>\n",
       "      <th>PRCP_max</th>\n",
       "      <th>PRCP_min</th>\n",
       "      <th>TMAX_min</th>\n",
       "      <th>TMAX_max</th>\n",
       "      <th>TMAX_avg</th>\n",
       "      <th>TMIN_min</th>\n",
       "      <th>TMIN_max</th>\n",
       "      <th>TMIN_avg</th>\n",
       "    </tr>\n",
       "  </thead>\n",
       "  <tbody>\n",
       "    <tr>\n",
       "      <th>0</th>\n",
       "      <td>2023-01-08</td>\n",
       "      <td>7</td>\n",
       "      <td>None</td>\n",
       "      <td>18.340815</td>\n",
       "      <td>914.0</td>\n",
       "      <td>0.0</td>\n",
       "      <td>-206.0</td>\n",
       "      <td>356.0</td>\n",
       "      <td>66.392519</td>\n",
       "      <td>-317.0</td>\n",
       "      <td>278.0</td>\n",
       "      <td>-39.896693</td>\n",
       "    </tr>\n",
       "    <tr>\n",
       "      <th>1</th>\n",
       "      <td>2023-01-08</td>\n",
       "      <td>T</td>\n",
       "      <td>None</td>\n",
       "      <td>37.483213</td>\n",
       "      <td>508.0</td>\n",
       "      <td>0.0</td>\n",
       "      <td>-228.0</td>\n",
       "      <td>123.0</td>\n",
       "      <td>12.000000</td>\n",
       "      <td>-344.0</td>\n",
       "      <td>66.0</td>\n",
       "      <td>-67.767470</td>\n",
       "    </tr>\n",
       "    <tr>\n",
       "      <th>2</th>\n",
       "      <td>2023-01-08</td>\n",
       "      <td>S</td>\n",
       "      <td>B</td>\n",
       "      <td>6.659341</td>\n",
       "      <td>180.0</td>\n",
       "      <td>0.0</td>\n",
       "      <td>NaN</td>\n",
       "      <td>NaN</td>\n",
       "      <td>NaN</td>\n",
       "      <td>NaN</td>\n",
       "      <td>NaN</td>\n",
       "      <td>NaN</td>\n",
       "    </tr>\n",
       "    <tr>\n",
       "      <th>3</th>\n",
       "      <td>2023-01-08</td>\n",
       "      <td>N</td>\n",
       "      <td>T</td>\n",
       "      <td>0.000000</td>\n",
       "      <td>0.0</td>\n",
       "      <td>0.0</td>\n",
       "      <td>NaN</td>\n",
       "      <td>NaN</td>\n",
       "      <td>NaN</td>\n",
       "      <td>NaN</td>\n",
       "      <td>NaN</td>\n",
       "      <td>NaN</td>\n",
       "    </tr>\n",
       "    <tr>\n",
       "      <th>4</th>\n",
       "      <td>2023-01-09</td>\n",
       "      <td>S</td>\n",
       "      <td>B</td>\n",
       "      <td>12.634538</td>\n",
       "      <td>559.0</td>\n",
       "      <td>0.0</td>\n",
       "      <td>NaN</td>\n",
       "      <td>NaN</td>\n",
       "      <td>NaN</td>\n",
       "      <td>NaN</td>\n",
       "      <td>NaN</td>\n",
       "      <td>NaN</td>\n",
       "    </tr>\n",
       "  </tbody>\n",
       "</table>\n",
       "</div>"
      ],
      "text/plain": [
       "  reading_date source_flag measurement_flag   PRCP_avg  PRCP_max  PRCP_min  \\\n",
       "0   2023-01-08           7             None  18.340815     914.0       0.0   \n",
       "1   2023-01-08           T             None  37.483213     508.0       0.0   \n",
       "2   2023-01-08           S                B   6.659341     180.0       0.0   \n",
       "3   2023-01-08           N                T   0.000000       0.0       0.0   \n",
       "4   2023-01-09           S                B  12.634538     559.0       0.0   \n",
       "\n",
       "   TMAX_min  TMAX_max   TMAX_avg  TMIN_min  TMIN_max   TMIN_avg  \n",
       "0    -206.0     356.0  66.392519    -317.0     278.0 -39.896693  \n",
       "1    -228.0     123.0  12.000000    -344.0      66.0 -67.767470  \n",
       "2       NaN       NaN        NaN       NaN       NaN        NaN  \n",
       "3       NaN       NaN        NaN       NaN       NaN        NaN  \n",
       "4       NaN       NaN        NaN       NaN       NaN        NaN  "
      ]
     },
     "execution_count": 12,
     "metadata": {},
     "output_type": "execute_result"
    }
   ],
   "source": [
    "df.head()"
   ]
  },
  {
   "cell_type": "markdown",
   "metadata": {},
   "source": [
    "## Stations"
   ]
  },
  {
   "cell_type": "code",
   "execution_count": 32,
   "metadata": {},
   "outputs": [],
   "source": [
    "import boto3\n",
    "import pandas as pd\n",
    "import re\n",
    "bucket_name = 'noaa-ghcn-pds'\n",
    "key = 'ghcnd-stations.txt'\n",
    "\n",
    "client = boto3.client('s3')\n",
    "\n",
    "text_obj = client.get_object(Bucket=bucket_name, Key=key)\n",
    "text_body = text_obj['Body'].read().decode('utf-8')\n",
    "#text_csv = re.sub(r'\\s+',',',text_body)\n",
    "\n",
    "# text_body.split('\\n')\n",
    "with open('stations.txt','w') as f:\n",
    "    f.write(text_body)\n",
    "\n",
    "\n"
   ]
  },
  {
   "cell_type": "code",
   "execution_count": 35,
   "metadata": {},
   "outputs": [],
   "source": [
    "df_stations = pd.read_fwf('stations.txt')\n",
    "df_stations.columns=['station_id','latitude','longitude','state','station_name','gsn_flag','hcn_crn_flag','wmo_number']\n",
    "df_stations.to_csv('stations.csv')"
   ]
  },
  {
   "cell_type": "markdown",
   "metadata": {},
   "source": [
    "## Countries"
   ]
  },
  {
   "cell_type": "code",
   "execution_count": 31,
   "metadata": {},
   "outputs": [],
   "source": [
    "import boto3\n",
    "import pandas as pd\n",
    "import re\n",
    "bucket_name = 'noaa-ghcn-pds'\n",
    "key = 'ghcnd-countries.txt'\n",
    "\n",
    "client = boto3.client('s3')\n",
    "\n",
    "text_obj = client.get_object(Bucket=bucket_name, Key=key)\n",
    "text_body = text_obj['Body'].read().decode('utf-8')\n",
    "#text_csv = re.sub(r'\\s+',',',text_body)\n",
    "\n",
    "# text_body.split('\\n')\n",
    "with open('countries.txt','w') as f:\n",
    "    f.write(text_body)\n",
    "\n",
    "\n"
   ]
  },
  {
   "cell_type": "code",
   "execution_count": 34,
   "metadata": {},
   "outputs": [],
   "source": [
    "df_countries = pd.read_fwf('countries.txt')\n",
    "df_countries.columns=['country_code','country_name']\n",
    "df_countries.to_csv('countries.csv')"
   ]
  },
  {
   "cell_type": "markdown",
   "metadata": {},
   "source": [
    "# States"
   ]
  },
  {
   "cell_type": "code",
   "execution_count": 36,
   "metadata": {},
   "outputs": [],
   "source": [
    "import boto3\n",
    "import pandas as pd\n",
    "import re\n",
    "bucket_name = 'noaa-ghcn-pds'\n",
    "key = 'ghcnd-states.txt'\n",
    "\n",
    "client = boto3.client('s3')\n",
    "\n",
    "text_obj = client.get_object(Bucket=bucket_name, Key=key)\n",
    "text_body = text_obj['Body'].read().decode('utf-8')\n",
    "#text_csv = re.sub(r'\\s+',',',text_body)\n",
    "\n",
    "# text_body.split('\\n')\n",
    "with open('state.txt','w') as f:\n",
    "    f.write(text_body)\n",
    "\n",
    "df_states = pd.read_fwf('state.txt')\n",
    "df_states.columns=['state_code','state_name']\n",
    "df_states.to_csv('states.csv')"
   ]
  },
  {
   "cell_type": "code",
   "execution_count": 4,
   "metadata": {},
   "outputs": [],
   "source": [
    "# df_stations= df.join(df_countries,on=)\n",
    "def push_metadata(data, database_name, table_name):\n",
    "\n",
    "    conn = duckdb.connect(database=database_name,read_only=False)\n",
    "    conn.execute(\"CREATE SCHEMA IF NOT EXISTS dev_sode;\")\n",
    "    df = pd.read_csv(data)\n",
    "\n",
    "    conn.execute(f\"CREATE TABLE IF NOT EXISTS {table_name} AS SELECT * FROM df\")\n",
    "\n",
    "    conn.close()"
   ]
  },
  {
   "cell_type": "code",
   "execution_count": 9,
   "metadata": {},
   "outputs": [],
   "source": [
    "push_metadata('states.csv', \"dev_database.duckdb\", \"states\")\n",
    "push_metadata('stations.csv',\"dev_database.duckdb\", \"stations\")\n",
    "push_metadata('countries.csv', \"dev_database.duckdb\", \"countries\")"
   ]
  },
  {
   "cell_type": "code",
   "execution_count": null,
   "metadata": {},
   "outputs": [],
   "source": []
  }
 ],
 "metadata": {
  "kernelspec": {
   "display_name": "Python 3.11.7 64-bit",
   "language": "python",
   "name": "python3"
  },
  "language_info": {
   "codemirror_mode": {
    "name": "ipython",
    "version": 3
   },
   "file_extension": ".py",
   "mimetype": "text/x-python",
   "name": "python",
   "nbconvert_exporter": "python",
   "pygments_lexer": "ipython3",
   "version": "3.11.8"
  },
  "orig_nbformat": 4,
  "vscode": {
   "interpreter": {
    "hash": "b0fa6594d8f4cbf19f97940f81e996739fb7646882a419484c72d19e05852a7e"
   }
  }
 },
 "nbformat": 4,
 "nbformat_minor": 2
}
